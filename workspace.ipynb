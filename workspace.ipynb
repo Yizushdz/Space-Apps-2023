{
 "cells": [
  {
   "cell_type": "code",
   "execution_count": 2,
   "id": "bb61bfc7-c41c-4563-8e7d-f3526d2c4265",
   "metadata": {},
   "outputs": [],
   "source": [
    "import pandas as pd"
   ]
  },
  {
   "cell_type": "code",
   "execution_count": 6,
   "id": "5affb461-333e-43b2-8dca-b7a21fb61771",
   "metadata": {},
   "outputs": [
    {
     "data": {
      "text/html": [
       "<div>\n",
       "<style scoped>\n",
       "    .dataframe tbody tr th:only-of-type {\n",
       "        vertical-align: middle;\n",
       "    }\n",
       "\n",
       "    .dataframe tbody tr th {\n",
       "        vertical-align: top;\n",
       "    }\n",
       "\n",
       "    .dataframe thead th {\n",
       "        text-align: right;\n",
       "    }\n",
       "</style>\n",
       "<table border=\"1\" class=\"dataframe\">\n",
       "  <thead>\n",
       "    <tr style=\"text-align: right;\">\n",
       "      <th></th>\n",
       "      <th>#Time</th>\n",
       "      <th>Latitude (deg)</th>\n",
       "      <th>Longitude (deg)</th>\n",
       "      <th>Altitude (km)</th>\n",
       "      <th>GEO_x (km)</th>\n",
       "      <th>GEO_y (km)</th>\n",
       "      <th>GEO_z (km)</th>\n",
       "      <th>GEO_vx (km/s)</th>\n",
       "      <th>GEO_vy (km/s)</th>\n",
       "      <th>GEO_vz (km/s)</th>\n",
       "    </tr>\n",
       "  </thead>\n",
       "  <tbody>\n",
       "    <tr>\n",
       "      <th>0</th>\n",
       "      <td>2013-08-10 22:58:00</td>\n",
       "      <td>2.040</td>\n",
       "      <td>-56.112</td>\n",
       "      <td>1257.54</td>\n",
       "      <td>4254.701</td>\n",
       "      <td>-6334.636</td>\n",
       "      <td>270.247</td>\n",
       "      <td>0.060857</td>\n",
       "      <td>0.886850</td>\n",
       "      <td>6.929189</td>\n",
       "    </tr>\n",
       "    <tr>\n",
       "      <th>1</th>\n",
       "      <td>2014-11-05 03:30:00</td>\n",
       "      <td>-16.474</td>\n",
       "      <td>168.527</td>\n",
       "      <td>844.33</td>\n",
       "      <td>-6789.204</td>\n",
       "      <td>1377.917</td>\n",
       "      <td>-2036.530</td>\n",
       "      <td>-2.697895</td>\n",
       "      <td>-0.173593</td>\n",
       "      <td>6.874721</td>\n",
       "    </tr>\n",
       "    <tr>\n",
       "      <th>2</th>\n",
       "      <td>2014-04-06 14:27:00</td>\n",
       "      <td>-7.965</td>\n",
       "      <td>-42.848</td>\n",
       "      <td>1426.22</td>\n",
       "      <td>5666.930</td>\n",
       "      <td>-5256.495</td>\n",
       "      <td>-1075.552</td>\n",
       "      <td>1.128690</td>\n",
       "      <td>-0.334645</td>\n",
       "      <td>6.707328</td>\n",
       "    </tr>\n",
       "    <tr>\n",
       "      <th>3</th>\n",
       "      <td>2014-12-08 01:01:00</td>\n",
       "      <td>6.284</td>\n",
       "      <td>-157.176</td>\n",
       "      <td>1432.37</td>\n",
       "      <td>-7155.956</td>\n",
       "      <td>-3011.543</td>\n",
       "      <td>850.265</td>\n",
       "      <td>-0.477488</td>\n",
       "      <td>-0.758944</td>\n",
       "      <td>-6.742525</td>\n",
       "    </tr>\n",
       "    <tr>\n",
       "      <th>4</th>\n",
       "      <td>2014-03-12 03:12:00</td>\n",
       "      <td>-3.417</td>\n",
       "      <td>-53.798</td>\n",
       "      <td>1331.68</td>\n",
       "      <td>4545.641</td>\n",
       "      <td>-6210.352</td>\n",
       "      <td>-457.001</td>\n",
       "      <td>0.355576</td>\n",
       "      <td>0.409626</td>\n",
       "      <td>-6.872163</td>\n",
       "    </tr>\n",
       "  </tbody>\n",
       "</table>\n",
       "</div>"
      ],
      "text/plain": [
       "                 #Time   Latitude (deg)   Longitude (deg)   Altitude (km)  \\\n",
       "0  2013-08-10 22:58:00            2.040           -56.112         1257.54   \n",
       "1  2014-11-05 03:30:00          -16.474           168.527          844.33   \n",
       "2  2014-04-06 14:27:00           -7.965           -42.848         1426.22   \n",
       "3  2014-12-08 01:01:00            6.284          -157.176         1432.37   \n",
       "4  2014-03-12 03:12:00           -3.417           -53.798         1331.68   \n",
       "\n",
       "    GEO_x (km)   GEO_y (km)   GEO_z (km)   GEO_vx (km/s)   GEO_vy (km/s)  \\\n",
       "0     4254.701    -6334.636      270.247        0.060857        0.886850   \n",
       "1    -6789.204     1377.917    -2036.530       -2.697895       -0.173593   \n",
       "2     5666.930    -5256.495    -1075.552        1.128690       -0.334645   \n",
       "3    -7155.956    -3011.543      850.265       -0.477488       -0.758944   \n",
       "4     4545.641    -6210.352     -457.001        0.355576        0.409626   \n",
       "\n",
       "    GEO_vz (km/s)  \n",
       "0        6.929189  \n",
       "1        6.874721  \n",
       "2        6.707328  \n",
       "3       -6.742525  \n",
       "4       -6.872163  "
      ]
     },
     "execution_count": 19,
     "metadata": {},
     "output_type": "execute_result"
    }
   ],
   "source": [
    "df_seu_data = pd.read_excel('CASSIOPE_data.xlsx', 'SEU')\n",
    "df_seu_data.head()"
   ]
  },
  {
   "cell_type": "code",
   "execution_count": 27,
   "id": "a065c7de-0526-4e1b-b8bf-8e20e0936b39",
   "metadata": {},
   "outputs": [],
   "source": [
    "df_seu_data = df_seu_data.drop(df_seu_data.columns[[1,2,3]], axis=1)"
   ]
  },
  {
   "cell_type": "code",
   "execution_count": 30,
   "id": "49b201a4-e5b1-48e8-bc45-3e5cecd4ea44",
   "metadata": {},
   "outputs": [],
   "source": [
    "df_seu_data['SEU'] = 1"
   ]
  },
  {
   "cell_type": "code",
   "execution_count": 38,
   "id": "46ed2366-8391-4954-8ea4-db52a6a46369",
   "metadata": {},
   "outputs": [],
   "source": [
    "df_flux = pd.read_excel('flux_data.xlsx')"
   ]
  },
  {
   "cell_type": "code",
   "execution_count": 40,
   "id": "f41e45d5-e3c3-45af-b2c8-9c4b9b572aea",
   "metadata": {},
   "outputs": [],
   "source": [
    "df_flux = df_flux.drop(df_flux.columns[[2]], axis=1)"
   ]
  },
  {
   "cell_type": "code",
   "execution_count": 44,
   "id": "ca183564-d5ad-4bca-883a-59c3ee032db2",
   "metadata": {},
   "outputs": [],
   "source": [
    "df_seu_data.to_excel('CASSIOPE_data_updated.xlsx')"
   ]
  },
  {
   "cell_type": "code",
   "execution_count": 45,
   "id": "3bc941e2-5c0e-452a-bf07-d48cb510f4ab",
   "metadata": {},
   "outputs": [],
   "source": [
    "df_non_seu_data = pd.read_excel('CASSIOPE_data_Non-SEU.xlsx')"
   ]
  },
  {
   "cell_type": "code",
   "execution_count": 49,
   "id": "2f28fcef-9d3b-4a77-95d9-69803ee1e8ec",
   "metadata": {},
   "outputs": [],
   "source": [
    "df_non_seu_data.drop(df_non_seu_data.columns[[0]], axis = 1, inplace = True)"
   ]
  },
  {
   "cell_type": "code",
   "execution_count": null,
   "id": "5e11a00a-d19f-4470-813f-b4edf45e2beb",
   "metadata": {},
   "outputs": [],
   "source": [
    "df_non_seu_data['#Time'] = pd.to_datetime(df_non_seu_data['#Time'])"
   ]
  },
  {
   "cell_type": "code",
   "execution_count": 69,
   "id": "256813f7-ed06-4894-b5ff-12a457694aea",
   "metadata": {},
   "outputs": [],
   "source": [
    "df_seu_data['#Time'] = pd.to_datetime(df_seu_data['#Time'])"
   ]
  },
  {
   "cell_type": "code",
   "execution_count": 88,
   "id": "d4abbc54-053f-4d23-a187-2ebfd99acdf5",
   "metadata": {},
   "outputs": [
    {
     "data": {
      "text/html": [
       "<div>\n",
       "<style scoped>\n",
       "    .dataframe tbody tr th:only-of-type {\n",
       "        vertical-align: middle;\n",
       "    }\n",
       "\n",
       "    .dataframe tbody tr th {\n",
       "        vertical-align: top;\n",
       "    }\n",
       "\n",
       "    .dataframe thead th {\n",
       "        text-align: right;\n",
       "    }\n",
       "</style>\n",
       "<table border=\"1\" class=\"dataframe\">\n",
       "  <thead>\n",
       "    <tr style=\"text-align: right;\">\n",
       "      <th></th>\n",
       "      <th>#Time</th>\n",
       "      <th>GEO_x (km)</th>\n",
       "      <th>GEO_y (km)</th>\n",
       "      <th>GEO_z (km)</th>\n",
       "      <th>GEO_vx (km/s)</th>\n",
       "      <th>GEO_vy (km/s)</th>\n",
       "      <th>GEO_vz (km/s)</th>\n",
       "      <th>SEU</th>\n",
       "    </tr>\n",
       "  </thead>\n",
       "  <tbody>\n",
       "    <tr>\n",
       "      <th>0</th>\n",
       "      <td>2013-03-10 03:13:00</td>\n",
       "      <td>-1410.841</td>\n",
       "      <td>-478.882</td>\n",
       "      <td>-7471.466</td>\n",
       "      <td>-2.225029</td>\n",
       "      <td>-6.598689</td>\n",
       "      <td>0.367434</td>\n",
       "      <td>0</td>\n",
       "    </tr>\n",
       "    <tr>\n",
       "      <th>1</th>\n",
       "      <td>2013-05-10 20:20:00</td>\n",
       "      <td>-4667.473</td>\n",
       "      <td>-15.599</td>\n",
       "      <td>-5531.316</td>\n",
       "      <td>5.122558</td>\n",
       "      <td>-1.443011</td>\n",
       "      <td>-5.094932</td>\n",
       "      <td>0</td>\n",
       "    </tr>\n",
       "    <tr>\n",
       "      <th>2</th>\n",
       "      <td>2013-07-10 18:19:00</td>\n",
       "      <td>-4347.426</td>\n",
       "      <td>-383.702</td>\n",
       "      <td>5085.844</td>\n",
       "      <td>-5.701366</td>\n",
       "      <td>-2.116974</td>\n",
       "      <td>-5.106535</td>\n",
       "      <td>0</td>\n",
       "    </tr>\n",
       "    <tr>\n",
       "      <th>3</th>\n",
       "      <td>2013-09-10 06:07:00</td>\n",
       "      <td>-3631.731</td>\n",
       "      <td>-1984.662</td>\n",
       "      <td>5768.614</td>\n",
       "      <td>6.320366</td>\n",
       "      <td>1.483590</td>\n",
       "      <td>3.772502</td>\n",
       "      <td>0</td>\n",
       "    </tr>\n",
       "    <tr>\n",
       "      <th>4</th>\n",
       "      <td>2013-11-10 11:53:00</td>\n",
       "      <td>1506.802</td>\n",
       "      <td>-6518.418</td>\n",
       "      <td>1400.869</td>\n",
       "      <td>1.196887</td>\n",
       "      <td>-1.765089</td>\n",
       "      <td>-7.510982</td>\n",
       "      <td>0</td>\n",
       "    </tr>\n",
       "    <tr>\n",
       "      <th>...</th>\n",
       "      <td>...</td>\n",
       "      <td>...</td>\n",
       "      <td>...</td>\n",
       "      <td>...</td>\n",
       "      <td>...</td>\n",
       "      <td>...</td>\n",
       "      <td>...</td>\n",
       "      <td>...</td>\n",
       "    </tr>\n",
       "    <tr>\n",
       "      <th>17</th>\n",
       "      <td>2019-10-02 14:59:00</td>\n",
       "      <td>1930.811</td>\n",
       "      <td>-6577.208</td>\n",
       "      <td>-2363.665</td>\n",
       "      <td>-0.102797</td>\n",
       "      <td>2.915060</td>\n",
       "      <td>-6.707080</td>\n",
       "      <td>1</td>\n",
       "    </tr>\n",
       "    <tr>\n",
       "      <th>18</th>\n",
       "      <td>2019-11-23 09:29:00</td>\n",
       "      <td>5657.277</td>\n",
       "      <td>-4278.863</td>\n",
       "      <td>-2704.329</td>\n",
       "      <td>2.543424</td>\n",
       "      <td>-1.092028</td>\n",
       "      <td>6.393136</td>\n",
       "      <td>1</td>\n",
       "    </tr>\n",
       "    <tr>\n",
       "      <th>19</th>\n",
       "      <td>2020-10-01 18:24:00</td>\n",
       "      <td>1073.523</td>\n",
       "      <td>-6599.913</td>\n",
       "      <td>-3679.630</td>\n",
       "      <td>0.243837</td>\n",
       "      <td>3.264461</td>\n",
       "      <td>-6.099565</td>\n",
       "      <td>1</td>\n",
       "    </tr>\n",
       "    <tr>\n",
       "      <th>20</th>\n",
       "      <td>2020-01-27 15:24:00</td>\n",
       "      <td>2142.166</td>\n",
       "      <td>-7227.320</td>\n",
       "      <td>-1256.169</td>\n",
       "      <td>0.188524</td>\n",
       "      <td>1.339593</td>\n",
       "      <td>-6.785541</td>\n",
       "      <td>1</td>\n",
       "    </tr>\n",
       "    <tr>\n",
       "      <th>21</th>\n",
       "      <td>2020-08-28 21:30:00</td>\n",
       "      <td>3171.677</td>\n",
       "      <td>-6336.827</td>\n",
       "      <td>-1563.129</td>\n",
       "      <td>1.082204</td>\n",
       "      <td>-0.675837</td>\n",
       "      <td>7.192344</td>\n",
       "      <td>1</td>\n",
       "    </tr>\n",
       "  </tbody>\n",
       "</table>\n",
       "<p>1271 rows × 8 columns</p>\n",
       "</div>"
      ],
      "text/plain": [
       "                 #Time   GEO_x (km)   GEO_y (km)   GEO_z (km)   GEO_vx (km/s)  \\\n",
       "0  2013-03-10 03:13:00    -1410.841     -478.882    -7471.466       -2.225029   \n",
       "1  2013-05-10 20:20:00    -4667.473      -15.599    -5531.316        5.122558   \n",
       "2  2013-07-10 18:19:00    -4347.426     -383.702     5085.844       -5.701366   \n",
       "3  2013-09-10 06:07:00    -3631.731    -1984.662     5768.614        6.320366   \n",
       "4  2013-11-10 11:53:00     1506.802    -6518.418     1400.869        1.196887   \n",
       "..                 ...          ...          ...          ...             ...   \n",
       "17 2019-10-02 14:59:00     1930.811    -6577.208    -2363.665       -0.102797   \n",
       "18 2019-11-23 09:29:00     5657.277    -4278.863    -2704.329        2.543424   \n",
       "19 2020-10-01 18:24:00     1073.523    -6599.913    -3679.630        0.243837   \n",
       "20 2020-01-27 15:24:00     2142.166    -7227.320    -1256.169        0.188524   \n",
       "21 2020-08-28 21:30:00     3171.677    -6336.827    -1563.129        1.082204   \n",
       "\n",
       "     GEO_vy (km/s)   GEO_vz (km/s)  SEU  \n",
       "0        -6.598689        0.367434    0  \n",
       "1        -1.443011       -5.094932    0  \n",
       "2        -2.116974       -5.106535    0  \n",
       "3         1.483590        3.772502    0  \n",
       "4        -1.765089       -7.510982    0  \n",
       "..             ...             ...  ...  \n",
       "17        2.915060       -6.707080    1  \n",
       "18       -1.092028        6.393136    1  \n",
       "19        3.264461       -6.099565    1  \n",
       "20        1.339593       -6.785541    1  \n",
       "21       -0.675837        7.192344    1  \n",
       "\n",
       "[1271 rows x 8 columns]"
      ]
     },
     "execution_count": 88,
     "metadata": {},
     "output_type": "execute_result"
    }
   ],
   "source": [
    "pd.concat([df_non_seu_data, df_seu_data])"
   ]
  },
  {
   "cell_type": "code",
   "execution_count": 77,
   "id": "1f8e416d-3fce-41b8-a28d-e226e617b0d1",
   "metadata": {},
   "outputs": [],
   "source": [
    "df_concat_seu_data = pd.concat([df_non_seu_data, df_seu_data])"
   ]
  },
  {
   "cell_type": "code",
   "execution_count": 99,
   "id": "1a53ac59-91dd-4f70-b074-d46327a0c7af",
   "metadata": {},
   "outputs": [],
   "source": [
    "df_concat_seu_data = df_concat_seu_data.sort_values(by = 'Time (YYYY-MM-DD HH:MM:SS)')"
   ]
  },
  {
   "cell_type": "code",
   "execution_count": 96,
   "id": "83915d02-e105-4d6e-ae99-b6759d48321a",
   "metadata": {},
   "outputs": [],
   "source": [
    "df_concat_seu_data = df_concat_seu_data.rename(columns = {'#Time': 'Time (YYYY-MM-DD HH:MM:SS)'})"
   ]
  },
  {
   "cell_type": "code",
   "execution_count": 101,
   "id": "b9a8441d-58e8-423a-8739-ce7cbc600beb",
   "metadata": {},
   "outputs": [],
   "source": [
    "# Machine Learning "
   ]
  },
  {
   "cell_type": "code",
   "execution_count": 103,
   "id": "9976a693-cb44-4f33-9049-25444777247d",
   "metadata": {},
   "outputs": [],
   "source": [
    "import seaborn as sns"
   ]
  },
  {
   "cell_type": "code",
   "execution_count": 112,
   "id": "8ccfe7a8-036c-42bb-8016-c4306446ec65",
   "metadata": {},
   "outputs": [],
   "source": [
    "df_concat_no_date = df_concat_seu_data.drop(df_concat_seu_data.columns[[0]], axis = 1)"
   ]
  },
  {
   "cell_type": "code",
   "execution_count": 126,
   "id": "cfc21de4-aafe-4cf5-901b-5e0270064920",
   "metadata": {},
   "outputs": [],
   "source": [
    "df_concat_no_date = df_concat_no_date.reset_index()"
   ]
  },
  {
   "cell_type": "code",
   "execution_count": 128,
   "id": "47446953-1cbc-4ba3-b6d1-20d3a56255c9",
   "metadata": {},
   "outputs": [],
   "source": [
    "df_concat_no_date.drop(df_concat_no_date.columns[[0]], axis = 1, inplace = True)"
   ]
  },
  {
   "cell_type": "code",
   "execution_count": 158,
   "id": "1aa2c6b1-860b-40c2-ae67-c6398507edbc",
   "metadata": {},
   "outputs": [],
   "source": [
    "df_concat_seu_data = df_concat_seu_data.reset_index()"
   ]
  },
  {
   "cell_type": "code",
   "execution_count": 150,
   "id": "8d452161-31ec-484d-b8c6-5b1ddbf81b3d",
   "metadata": {},
   "outputs": [],
   "source": [
    "df_concat_seu_data.drop(df_concat_seu_data.columns[[0]], axis = 1, inplace = True)"
   ]
  },
  {
   "cell_type": "code",
   "execution_count": 173,
   "id": "b8335d01-f85d-4b55-89a1-36c2100dca1e",
   "metadata": {},
   "outputs": [
    {
     "data": {
      "text/plain": [
       "'index'"
      ]
     },
     "execution_count": 173,
     "metadata": {},
     "output_type": "execute_result"
    }
   ],
   "source": [
    "df_concat_seu_data.columns[0]"
   ]
  },
  {
   "cell_type": "code",
   "execution_count": null,
   "id": "134e0564-2e26-4b52-9490-a7b4ead520cd",
   "metadata": {},
   "outputs": [],
   "source": []
  },
  {
   "cell_type": "code",
   "execution_count": 175,
   "id": "654026ac-610a-4207-9d29-520894a00855",
   "metadata": {},
   "outputs": [
    {
     "data": {
      "text/plain": [
       "<seaborn.axisgrid.FacetGrid at 0x7f9edbfb7fa0>"
      ]
     },
     "execution_count": 175,
     "metadata": {},
     "output_type": "execute_result"
    },
    {
     "data": {
      "image/png": "[encoded data removed]",
      "text/plain": [
       "<Figure size 402.375x360 with 1 Axes>"
      ]
     },
     "metadata": {
      "needs_background": "light"
     },
     "output_type": "display_data"
    }
   ],
   "source": [
    "sns.lmplot(data = df_concat_seu_data, x = df_concat_seu_data.columns[0], y = df_concat_seu_data.columns[5], hue = 'SEU')"
   ]
  },
  {
   "cell_type": "code",
   "execution_count": 136,
   "id": "06b163a5-81eb-4842-a337-f2a346183190",
   "metadata": {},
   "outputs": [
    {
     "data": {
      "text/html": [
       "<div>\n",
       "<style scoped>\n",
       "    .dataframe tbody tr th:only-of-type {\n",
       "        vertical-align: middle;\n",
       "    }\n",
       "\n",
       "    .dataframe tbody tr th {\n",
       "        vertical-align: top;\n",
       "    }\n",
       "\n",
       "    .dataframe thead th {\n",
       "        text-align: right;\n",
       "    }\n",
       "</style>\n",
       "<table border=\"1\" class=\"dataframe\">\n",
       "  <thead>\n",
       "    <tr style=\"text-align: right;\">\n",
       "      <th></th>\n",
       "      <th>GEO_x (km)</th>\n",
       "      <th>GEO_y (km)</th>\n",
       "      <th>GEO_z (km)</th>\n",
       "      <th>GEO_vx (km/s)</th>\n",
       "      <th>GEO_vy (km/s)</th>\n",
       "      <th>GEO_vz (km/s)</th>\n",
       "      <th>SEU</th>\n",
       "    </tr>\n",
       "  </thead>\n",
       "  <tbody>\n",
       "    <tr>\n",
       "      <th>0</th>\n",
       "      <td>-1317.068</td>\n",
       "      <td>-808.622</td>\n",
       "      <td>-7677.011</td>\n",
       "      <td>6.302345</td>\n",
       "      <td>-2.379130</td>\n",
       "      <td>-0.633256</td>\n",
       "      <td>0</td>\n",
       "    </tr>\n",
       "    <tr>\n",
       "      <th>1</th>\n",
       "      <td>-787.479</td>\n",
       "      <td>6676.503</td>\n",
       "      <td>-232.167</td>\n",
       "      <td>-0.804404</td>\n",
       "      <td>0.337668</td>\n",
       "      <td>7.877404</td>\n",
       "      <td>0</td>\n",
       "    </tr>\n",
       "    <tr>\n",
       "      <th>2</th>\n",
       "      <td>-1410.841</td>\n",
       "      <td>-478.882</td>\n",
       "      <td>-7471.466</td>\n",
       "      <td>-2.225029</td>\n",
       "      <td>-6.598689</td>\n",
       "      <td>0.367434</td>\n",
       "      <td>0</td>\n",
       "    </tr>\n",
       "    <tr>\n",
       "      <th>3</th>\n",
       "      <td>-299.224</td>\n",
       "      <td>1483.662</td>\n",
       "      <td>-7582.832</td>\n",
       "      <td>-6.127879</td>\n",
       "      <td>2.857994</td>\n",
       "      <td>1.164522</td>\n",
       "      <td>0</td>\n",
       "    </tr>\n",
       "    <tr>\n",
       "      <th>4</th>\n",
       "      <td>223.993</td>\n",
       "      <td>5547.998</td>\n",
       "      <td>-3782.265</td>\n",
       "      <td>-0.932585</td>\n",
       "      <td>4.365888</td>\n",
       "      <td>6.549829</td>\n",
       "      <td>0</td>\n",
       "    </tr>\n",
       "  </tbody>\n",
       "</table>\n",
       "</div>"
      ],
      "text/plain": [
       "    GEO_x (km)   GEO_y (km)   GEO_z (km)   GEO_vx (km/s)   GEO_vy (km/s)  \\\n",
       "0    -1317.068     -808.622    -7677.011        6.302345       -2.379130   \n",
       "1     -787.479     6676.503     -232.167       -0.804404        0.337668   \n",
       "2    -1410.841     -478.882    -7471.466       -2.225029       -6.598689   \n",
       "3     -299.224     1483.662    -7582.832       -6.127879        2.857994   \n",
       "4      223.993     5547.998    -3782.265       -0.932585        4.365888   \n",
       "\n",
       "    GEO_vz (km/s)  SEU  \n",
       "0       -0.633256    0  \n",
       "1        7.877404    0  \n",
       "2        0.367434    0  \n",
       "3        1.164522    0  \n",
       "4        6.549829    0  "
      ]
     },
     "execution_count": 136,
     "metadata": {},
     "output_type": "execute_result"
    }
   ],
   "source": [
    "df_concat_no_date.head()"
   ]
  },
  {
   "cell_type": "code",
   "execution_count": 145,
   "id": "6fd92f55-c78a-4da6-a585-ff82403cda4f",
   "metadata": {},
   "outputs": [
    {
     "name": "stdout",
     "output_type": "stream",
     "text": [
      "Accuracy: 0.98\n"
     ]
    }
   ],
   "source": [
    "# Step 1: Import the necessary libraries\n",
    "#import numpy as np\n",
    "#import pandas as pd\n",
    "from sklearn.model_selection import train_test_split\n",
    "from sklearn.ensemble import RandomForestClassifier\n",
    "from sklearn.metrics import accuracy_score\n",
    "\n",
    "# Step 2: Load and preprocess your time series dataset\n",
    "# Replace 'your_dataset.csv' with the actual file path or data loading method\n",
    "\n",
    "# Assuming the target variable is in a column called 'target'\n",
    "X = df_concat_no_date.drop(columns=['SEU'])\n",
    "y = df_concat_no_date['SEU']\n",
    "\n",
    "# Step 3: Split the dataset into training and testing sets\n",
    "X_train, X_test, y_train, y_test = train_test_split(X, y, test_size=0.2)\n",
    "\n",
    "# Step 4: Choose a classification algorithm and create the model\n",
    "model = RandomForestClassifier(n_estimators=100)\n",
    "\n",
    "# Step 5: Train the model on the training data\n",
    "model.fit(X_train, y_train)\n",
    "\n",
    "# Step 6: Evaluate the model on the testing data\n",
    "y_pred = model.predict(X_test)\n",
    "accuracy = accuracy_score(y_test, y_pred)\n",
    "\n",
    "print(f'Accuracy: {accuracy:.2f}')"
   ]
  },
  {
   "cell_type": "code",
   "execution_count": 146,
   "id": "d528207d-9b5e-4dc5-a58e-326503b272c2",
   "metadata": {},
   "outputs": [
    {
     "data": {
      "text/plain": [
       "array([[250,   0],\n",
       "       [  4,   1]])"
      ]
     },
     "execution_count": 146,
     "metadata": {},
     "output_type": "execute_result"
    }
   ],
   "source": [
    "from sklearn.metrics import confusion_matrix\n",
    "confusion_matrix(y_test, y_pred)"
   ]
  },
  {
   "cell_type": "code",
   "execution_count": 179,
   "id": "d5e0c719-2966-4f8e-9c62-e8e5389dd5cf",
   "metadata": {},
   "outputs": [],
   "source": [
    "df_flux_2004html = pd.read_html('https://www.spaceweather.gc.ca/forecast-prevision/solar-solaire/solarflux/sx-5-flux-en.php?year=2004')"
   ]
  },
  {
   "cell_type": "code",
   "execution_count": 186,
   "id": "e06d8f7f-0c8e-40e1-855f-c5adaac99162",
   "metadata": {},
   "outputs": [],
   "source": [
    "df_flux_2004html = df_flux_2004html[0]"
   ]
  },
  {
   "cell_type": "code",
   "execution_count": 188,
   "id": "85c7da14-9c5b-46ed-a9b8-ce8d01a15f14",
   "metadata": {},
   "outputs": [
    {
     "data": {
      "text/html": [
       "<div>\n",
       "<style scoped>\n",
       "    .dataframe tbody tr th:only-of-type {\n",
       "        vertical-align: middle;\n",
       "    }\n",
       "\n",
       "    .dataframe tbody tr th {\n",
       "        vertical-align: top;\n",
       "    }\n",
       "\n",
       "    .dataframe thead th {\n",
       "        text-align: right;\n",
       "    }\n",
       "</style>\n",
       "<table border=\"1\" class=\"dataframe\">\n",
       "  <thead>\n",
       "    <tr style=\"text-align: right;\">\n",
       "      <th></th>\n",
       "      <th>Date</th>\n",
       "      <th>Time</th>\n",
       "      <th>Julian day</th>\n",
       "      <th>Carringtonrotation</th>\n",
       "      <th>Observed Flux</th>\n",
       "      <th>Adjusted Flux</th>\n",
       "      <th>URSI Flux</th>\n",
       "    </tr>\n",
       "  </thead>\n",
       "  <tbody>\n",
       "    <tr>\n",
       "      <th>0</th>\n",
       "      <td>2004-10-28</td>\n",
       "      <td>17:00:00</td>\n",
       "      <td>2453307.229</td>\n",
       "      <td>2022.605</td>\n",
       "      <td>132.7</td>\n",
       "      <td>130.9</td>\n",
       "      <td>117.8</td>\n",
       "    </tr>\n",
       "    <tr>\n",
       "      <th>1</th>\n",
       "      <td>2004-10-28</td>\n",
       "      <td>20:00:00</td>\n",
       "      <td>2453307.354</td>\n",
       "      <td>2022.610</td>\n",
       "      <td>135.8</td>\n",
       "      <td>134.0</td>\n",
       "      <td>120.6</td>\n",
       "    </tr>\n",
       "    <tr>\n",
       "      <th>2</th>\n",
       "      <td>2004-10-29</td>\n",
       "      <td>20:00:00</td>\n",
       "      <td>2453308.354</td>\n",
       "      <td>2022.646</td>\n",
       "      <td>130.6</td>\n",
       "      <td>128.8</td>\n",
       "      <td>115.9</td>\n",
       "    </tr>\n",
       "    <tr>\n",
       "      <th>3</th>\n",
       "      <td>2004-10-29</td>\n",
       "      <td>23:00:00</td>\n",
       "      <td>2453308.479</td>\n",
       "      <td>2022.651</td>\n",
       "      <td>134.2</td>\n",
       "      <td>132.3</td>\n",
       "      <td>119.1</td>\n",
       "    </tr>\n",
       "    <tr>\n",
       "      <th>4</th>\n",
       "      <td>2004-10-30</td>\n",
       "      <td>17:00:00</td>\n",
       "      <td>2453309.229</td>\n",
       "      <td>2022.678</td>\n",
       "      <td>147.9</td>\n",
       "      <td>145.8</td>\n",
       "      <td>131.2</td>\n",
       "    </tr>\n",
       "  </tbody>\n",
       "</table>\n",
       "</div>"
      ],
      "text/plain": [
       "         Date      Time   Julian day  Carringtonrotation  Observed Flux  \\\n",
       "0  2004-10-28  17:00:00  2453307.229            2022.605          132.7   \n",
       "1  2004-10-28  20:00:00  2453307.354            2022.610          135.8   \n",
       "2  2004-10-29  20:00:00  2453308.354            2022.646          130.6   \n",
       "3  2004-10-29  23:00:00  2453308.479            2022.651          134.2   \n",
       "4  2004-10-30  17:00:00  2453309.229            2022.678          147.9   \n",
       "\n",
       "   Adjusted Flux  URSI Flux  \n",
       "0          130.9      117.8  \n",
       "1          134.0      120.6  \n",
       "2          128.8      115.9  \n",
       "3          132.3      119.1  \n",
       "4          145.8      131.2  "
      ]
     },
     "execution_count": 188,
     "metadata": {},
     "output_type": "execute_result"
    }
   ],
   "source": [
    "df_flux_2004html.head()"
   ]
  },
  {
   "cell_type": "code",
   "execution_count": null,
   "id": "712d2c7b-4d73-4d5b-bfb4-86384162fadb",
   "metadata": {},
   "outputs": [],
   "source": [
    "df_flux"
   ]
  },
  {
   "cell_type": "code",
   "execution_count": 1,
   "id": "d1cc9b7c-958b-46de-a049-99ee2de8eccb",
   "metadata": {},
   "outputs": [],
   "source": [
    "#pd.read_html('https://donnees-data.asc-csa.gc.ca/users/OpenData_DonneesOuvertes/pub/carisma_csv/mag/daily/2004/CONT/')"
   ]
  },
  {
   "cell_type": "code",
   "execution_count": null,
   "id": "e3a630d6-f996-4b78-b386-0777e8f3f98c",
   "metadata": {},
   "outputs": [],
   "source": [
    "#pd.read_html('https://donnees-data.asc-csa.gc.ca/users/OpenData_DonneesOuvertes/pub/carisma_csv/mag/daily/2004/CONT/20040101CONT.MAG.csv"
   ]
  },
  {
   "cell_type": "code",
   "execution_count": null,
   "id": "d3fedab3-5520-4696-b22c-c15e0759202c",
   "metadata": {},
   "outputs": [],
   "source": [
    "for file in folder: # iterates through the folders found in each category(each category is the name of a folder in the 'predictEDSS' folder\n",
    "    \n",
    "        path = os.path.join(folder, file)\n",
    "        for FILE in os.listdir(path):\n",
    "            print(FILE)\n",
    "            for file in FILE:\n",
    "                fileData = pd.read_csv(os.path.join(path, FILE))"
   ]
  }
 ],
 "metadata": {
  "kernelspec": {
   "display_name": "Python 3 (ipykernel)",
   "language": "python",
   "name": "python3"
  },
  "language_info": {
   "codemirror_mode": {
    "name": "ipython",
    "version": 3
   },
   "file_extension": ".py",
   "mimetype": "text/x-python",
   "name": "python",
   "nbconvert_exporter": "python",
   "pygments_lexer": "ipython3",
   "version": "3.9.7"
  }
 },
 "nbformat": 4,
 "nbformat_minor": 5
}
