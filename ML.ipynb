{
 "cells": [
  {
   "cell_type": "code",
   "execution_count": 2,
   "id": "66cd2d49-9843-4962-b544-47e9184f9239",
   "metadata": {},
   "outputs": [],
   "source": [
    "import pandas as pd\n",
    "import os"
   ]
  },
  {
   "cell_type": "code",
   "execution_count": 27,
   "id": "10c2f6db-0c7f-4b3c-83b4-69198ac49922",
   "metadata": {},
   "outputs": [],
   "source": [
    "# filename = f\"{df_flux_?tml['Date'].apply(lambda date: date.replace('-', ''))[1]}CONT.MAG.csv\""
   ]
  },
  {
   "cell_type": "code",
   "execution_count": 151,
   "id": "5f412892-1bea-4fb7-b413-77dc636063b1",
   "metadata": {},
   "outputs": [
    {
     "name": "stdout",
     "output_type": "stream",
     "text": [
      "<class 'pandas.core.frame.DataFrame'>\n",
      "RangeIndex: 176 entries, 0 to 175\n",
      "Data columns (total 7 columns):\n",
      " #   Column              Non-Null Count  Dtype          \n",
      "---  ------              --------------  -----          \n",
      " 0   Date                176 non-null    object         \n",
      " 1   Time                176 non-null    timedelta64[ns]\n",
      " 2   Julian day          176 non-null    float64        \n",
      " 3   Carringtonrotation  176 non-null    float64        \n",
      " 4   Observed Flux       176 non-null    float64        \n",
      " 5   Adjusted Flux       176 non-null    float64        \n",
      " 6   URSI Flux           176 non-null    float64        \n",
      "dtypes: float64(5), object(1), timedelta64[ns](1)\n",
      "memory usage: 9.8+ KB\n"
     ]
    }
   ],
   "source": [
    "df_flux_html.info()"
   ]
  },
  {
   "cell_type": "code",
   "execution_count": 149,
   "id": "d3e8aa51-6a31-4fb1-bc99-cde3f79fad50",
   "metadata": {},
   "outputs": [
    {
     "name": "stdout",
     "output_type": "stream",
     "text": [
      "1\n"
     ]
    }
   ],
   "source": [
    "j = 0 # current file in the 2004 folder\n",
    "data = pd.DataFrame()\n",
    "    \n",
    "for i in range(2004, 2005):\n",
    "    df_flux_html = pd.read_html(f'https://www.spaceweather.gc.ca/forecast-prevision/solar-solaire/solarflux/sx-5-flux-en.php?year={i}')\n",
    "    df_flux_html = df_flux_html[0]\n",
    "    df_flux_html['Time'] = pd.to_timedelta(df_flux_html['Time'])\n",
    "    df_flux_html['Time'] = df_flux_html['Time'] + pd.Timedelta(seconds=3)\n",
    "    \n",
    "    # sorting year folder to prevent skipping values\n",
    "    yearFolder = os.listdir(str(i))\n",
    "    yearFolder.sort()\n",
    "\n",
    "    for file in yearFolder: # iterates through the folders found in each category(each category is the name of a folder in the 'predictEDSS' folder\n",
    "        filename = f\"{df_flux_html['Date'].apply(lambda date: date.replace('-', ''))[j]}CONT.MAG.csv\"\n",
    "        if filename == file:\n",
    "            print('1')\n",
    "            fileDataPerDay = pd.read_csv(os.path.join(str(i), filename), header = 5)\n",
    "            fileDataPerDay['time(hh:mi:ss)'] = pd.to_timedelta(fileDataPerDay['time(hh:mi:ss)'])\n",
    "            data = data.append(df_flux_html.join(fileDataPerDay, lsuffix = 'Time', rsuffix = 'time(hh:mi:ss)'))\n",
    "            j += 1"
   ]
  },
  {
   "cell_type": "code",
   "execution_count": null,
   "id": "61396b24-defd-40cf-9c45-04509ce9e3f9",
   "metadata": {},
   "outputs": [],
   "source": [
    "from sklearn.cluster import train_test_split\n",
    "from sklearn.cluster import KMeans\n",
    "from sklearn.metrics import accuracy_score\n",
    "\n",
    "# Step 2: Load and preprocess your time series dataset\n",
    "# Replace 'your_dataset.csv' with the actual file path or data loading method\n",
    "\n",
    "# Assuming the target variable is in a column called 'target'\n",
    "X = df_concat_no_date.drop(columns=['SEU'])\n",
    "y = df_concat_no_date['SEU']\n",
    "\n",
    "# Step 3: Split the dataset into training and testing sets\n",
    "X_train, X_test, y_train, y_test = train_test_split(X, y, test_size=0.2)\n",
    "\n",
    "# Step 4: Choose a classification algorithm and create the model\n",
    "model = RandomForestClassifier(n_estimators=100)\n",
    "\n",
    "# Step 5: Train the model on the training data\n",
    "model.fit(X_train, y_train)\n",
    "\n",
    "# Step 6: Evaluate the model on the testing data\n",
    "y_pred = model.predict(X_test)\n",
    "accuracy = accuracy_score(y_test, y_pred)\n",
    "\n",
    "print(f'Accuracy: {accuracy:.2f}')"
   ]
  },
  {
   "cell_type": "code",
   "execution_count": null,
   "id": "6f325a87-7819-4ef8-8f8a-66a9aa8e04f0",
   "metadata": {},
   "outputs": [],
   "source": [
    "from sklearn.metrics import confusion_matrix\n",
    "confusion_matrix(y_test, y_pred)"
   ]
  }
 ],
 "metadata": {
  "kernelspec": {
   "display_name": "Python 3 (ipykernel)",
   "language": "python",
   "name": "python3"
  },
  "language_info": {
   "codemirror_mode": {
    "name": "ipython",
    "version": 3
   },
   "file_extension": ".py",
   "mimetype": "text/x-python",
   "name": "python",
   "nbconvert_exporter": "python",
   "pygments_lexer": "ipython3",
   "version": "3.9.7"
  }
 },
 "nbformat": 4,
 "nbformat_minor": 5
}
