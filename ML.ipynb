{
 "cells": [
  {
   "cell_type": "code",
   "execution_count": 69,
   "id": "66cd2d49-9843-4962-b544-47e9184f9239",
   "metadata": {},
   "outputs": [],
   "source": [
    "import pandas as pd\n",
    "import os\n",
    "import matplotlib as plt\n",
    "import seaborn as sns\n",
    "import numpy as np\n",
    "import math"
   ]
  },
  {
   "cell_type": "code",
   "execution_count": 70,
   "id": "b0748160-58db-4fb3-a639-ddfc19c2d3a6",
   "metadata": {},
   "outputs": [],
   "source": [
    "def eucDistance(dataframe, KM):\n",
    "    # Get cluster centroids\n",
    "    centroids = KM.cluster_centers_\n",
    "    \n",
    "    # Initialize an empty list to store distances\n",
    "    distances = []\n",
    "    \n",
    "    # Calculate Euclidean distance for each data point\n",
    "    for index, row in dataframe.iterrows():\n",
    "        currCentroid = centroids[int(row['Kmeans Label'])]\n",
    "        valCord = row.drop('Kmeans Label').values\n",
    "        dist = math.dist(currCentroid, valCord)\n",
    "        distances.append(dist)\n",
    "    \n",
    "    return distances"
   ]
  },
  {
   "cell_type": "code",
   "execution_count": 71,
   "id": "d3e8aa51-6a31-4fb1-bc99-cde3f79fad50",
   "metadata": {},
   "outputs": [],
   "source": [
    "j = 0 # current file in the 2004 folder\n",
    "data = pd.DataFrame()\n",
    "    \n",
    "for i in range(2004, 2010):\n",
    "    df_flux_html = pd.read_html(f'https://www.spaceweather.gc.ca/forecast-prevision/solar-solaire/solarflux/sx-5-flux-en.php?year={i}')\n",
    "    df_flux_html = df_flux_html[0]\n",
    "    df_flux_html['Time'] = pd.to_timedelta(df_flux_html['Time'])\n",
    "    df_flux_html['Time'] = df_flux_html['Time'] + pd.Timedelta(seconds=3)\n",
    "    \n",
    "    # sorting year folder to prevent skipping values\n",
    "    yearFolder = os.listdir(str(i))\n",
    "    yearFolder.sort()\n",
    "\n",
    "    for file in yearFolder: # iterates through the folders found in each category(each category is the name of a folder in the 'predictEDSS' folder\n",
    "        filename = f\"{df_flux_html['Date'].apply(lambda date: date.replace('-', ''))[j]}CONT.MAG.csv\"\n",
    "        if filename == file:\n",
    "            fileDataPerDay = pd.read_csv(os.path.join(str(i), filename), header = 5)\n",
    "            fileDataPerDay['time(hh:mi:ss)'] = pd.to_timedelta(fileDataPerDay['time(hh:mi:ss)'])\n",
    "            data = data.append(df_flux_html.join(fileDataPerDay, lsuffix = 'Time', rsuffix = 'time(hh:mi:ss)'))\n",
    "            j += 1"
   ]
  },
  {
   "cell_type": "code",
   "execution_count": null,
   "id": "fde5565b-a452-486f-b68a-af8094b3ccbe",
   "metadata": {},
   "outputs": [],
   "source": [
    "# Machine Learning part"
   ]
  },
  {
   "cell_type": "code",
   "execution_count": 72,
   "id": "e6f9fb08-7770-4ddc-9e32-f6c43ebc6a24",
   "metadata": {},
   "outputs": [],
   "source": [
    "# dropping cuz we don't need it cuh, puro 956\n",
    "data.drop(data.columns[[0,1, 7, 8, 12]], axis = 1, inplace = True)"
   ]
  },
  {
   "cell_type": "code",
   "execution_count": 73,
   "id": "61396b24-defd-40cf-9c45-04509ce9e3f9",
   "metadata": {},
   "outputs": [
    {
     "data": {
      "text/plain": [
       "KMeans(n_clusters=4)"
      ]
     },
     "execution_count": 73,
     "metadata": {},
     "output_type": "execute_result"
    },
    {
     "data": {
      "image/png": "[encoded data removed]",
      "text/plain": [
       "<Figure size 432x288 with 1 Axes>"
      ]
     },
     "metadata": {
      "needs_background": "light"
     },
     "output_type": "display_data"
    }
   ],
   "source": [
    "from sklearn.cluster import KMeans\n",
    "\n",
    "# Test to determine best # of clusters: 4\n",
    "scores = []\n",
    "for i in range(2, 10):\n",
    "    kmeans = KMeans(n_clusters = i)\n",
    "    kmeans.fit(data)\n",
    "    scores.append(kmeans.inertia_)\n",
    "#data['Kmeans Label'] = kmeans.labels_\n",
    "sns.lineplot(x = range(2,10), y = scores, marker = 'o')\n",
    "\n",
    "kmeans = KMeans(n_clusters = 4)\n",
    "kmeans.fit(data)"
   ]
  },
  {
   "cell_type": "code",
   "execution_count": 74,
   "id": "5812bba5-61d4-422c-b0d9-b16aeb021056",
   "metadata": {},
   "outputs": [],
   "source": [
    "data['Kmeans Label'] = kmeans.labels_"
   ]
  },
  {
   "cell_type": "code",
   "execution_count": 75,
   "id": "5822b62a-47fd-411c-9781-90d98a20278d",
   "metadata": {},
   "outputs": [],
   "source": [
    "data['Euclid distance'] = eucDistance(data, kmeans)"
   ]
  },
  {
   "cell_type": "code",
   "execution_count": 76,
   "id": "5d79734f-43e9-4ed3-9184-d817f33f87cc",
   "metadata": {},
   "outputs": [],
   "source": [
    "from sklearn.ensemble import IsolationForest\n",
    "isoForest = IsolationForest(n_estimators = 100, contamination = 0.0007)\n",
    "isoForest.fit(data)\n",
    "isoForest_score = isoForest.predict(data)\n",
    "data['isoForest Anomaly'] = isoForest_score"
   ]
  },
  {
   "cell_type": "code",
   "execution_count": 77,
   "id": "9b09c1e1-b2de-44de-a8ed-4010721b757d",
   "metadata": {},
   "outputs": [],
   "source": [
    "predicted_Geostorms = data[data['isoForest Anomaly'] == -1]"
   ]
  },
  {
   "cell_type": "code",
   "execution_count": 78,
   "id": "f7d9f19d-4f9f-40a5-9bfc-b05211005cc5",
   "metadata": {},
   "outputs": [
    {
     "data": {
      "text/html": [
       "<div>\n",
       "<style scoped>\n",
       "    .dataframe tbody tr th:only-of-type {\n",
       "        vertical-align: middle;\n",
       "    }\n",
       "\n",
       "    .dataframe tbody tr th {\n",
       "        vertical-align: top;\n",
       "    }\n",
       "\n",
       "    .dataframe thead th {\n",
       "        text-align: right;\n",
       "    }\n",
       "</style>\n",
       "<table border=\"1\" class=\"dataframe\">\n",
       "  <thead>\n",
       "    <tr style=\"text-align: right;\">\n",
       "      <th></th>\n",
       "      <th>Julian day</th>\n",
       "      <th>Carringtonrotation</th>\n",
       "      <th>Observed Flux</th>\n",
       "      <th>Adjusted Flux</th>\n",
       "      <th>URSI Flux</th>\n",
       "      <th>X</th>\n",
       "      <th>Y</th>\n",
       "      <th>Z</th>\n",
       "      <th>Kmeans Label</th>\n",
       "      <th>Euclid distance</th>\n",
       "      <th>isoForest Anomaly</th>\n",
       "    </tr>\n",
       "  </thead>\n",
       "  <tbody>\n",
       "    <tr>\n",
       "      <th>748</th>\n",
       "      <td>2453623.337</td>\n",
       "      <td>2034.195</td>\n",
       "      <td>707.6</td>\n",
       "      <td>717.6</td>\n",
       "      <td>645.8</td>\n",
       "      <td>8104.150</td>\n",
       "      <td>3671.450</td>\n",
       "      <td>59437.898</td>\n",
       "      <td>1</td>\n",
       "      <td>1041.142907</td>\n",
       "      <td>-1</td>\n",
       "    </tr>\n",
       "    <tr>\n",
       "      <th>752</th>\n",
       "      <td>2453624.462</td>\n",
       "      <td>2034.236</td>\n",
       "      <td>629.8</td>\n",
       "      <td>638.3</td>\n",
       "      <td>574.5</td>\n",
       "      <td>8101.225</td>\n",
       "      <td>3673.425</td>\n",
       "      <td>59436.352</td>\n",
       "      <td>1</td>\n",
       "      <td>909.378486</td>\n",
       "      <td>-1</td>\n",
       "    </tr>\n",
       "    <tr>\n",
       "      <th>1010</th>\n",
       "      <td>2454076.337</td>\n",
       "      <td>2050.803</td>\n",
       "      <td>573.4</td>\n",
       "      <td>556.6</td>\n",
       "      <td>500.9</td>\n",
       "      <td>8115.826</td>\n",
       "      <td>3657.014</td>\n",
       "      <td>59421.927</td>\n",
       "      <td>0</td>\n",
       "      <td>810.881649</td>\n",
       "      <td>-1</td>\n",
       "    </tr>\n",
       "  </tbody>\n",
       "</table>\n",
       "</div>"
      ],
      "text/plain": [
       "       Julian day  Carringtonrotation  Observed Flux  Adjusted Flux  \\\n",
       "748   2453623.337            2034.195          707.6          717.6   \n",
       "752   2453624.462            2034.236          629.8          638.3   \n",
       "1010  2454076.337            2050.803          573.4          556.6   \n",
       "\n",
       "      URSI Flux         X         Y          Z  Kmeans Label  Euclid distance  \\\n",
       "748       645.8  8104.150  3671.450  59437.898             1      1041.142907   \n",
       "752       574.5  8101.225  3673.425  59436.352             1       909.378486   \n",
       "1010      500.9  8115.826  3657.014  59421.927             0       810.881649   \n",
       "\n",
       "      isoForest Anomaly  \n",
       "748                  -1  \n",
       "752                  -1  \n",
       "1010                 -1  "
      ]
     },
     "execution_count": 78,
     "metadata": {},
     "output_type": "execute_result"
    }
   ],
   "source": [
    "predicted_Geostorms.head()"
   ]
  },
  {
   "cell_type": "code",
   "execution_count": null,
   "id": "dfb9adba-ae70-49d9-8653-6f6ddf5f9a14",
   "metadata": {},
   "outputs": [],
   "source": []
  }
 ],
 "metadata": {
  "kernelspec": {
   "display_name": "Python 3 (ipykernel)",
   "language": "python",
   "name": "python3"
  },
  "language_info": {
   "codemirror_mode": {
    "name": "ipython",
    "version": 3
   },
   "file_extension": ".py",
   "mimetype": "text/x-python",
   "name": "python",
   "nbconvert_exporter": "python",
   "pygments_lexer": "ipython3",
   "version": "3.9.7"
  }
 },
 "nbformat": 4,
 "nbformat_minor": 5
}
